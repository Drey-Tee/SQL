{
  "nbformat": 4,
  "nbformat_minor": 0,
  "metadata": {
    "colab": {
      "name": "SQL_Study_Plan_I.ipynb",
      "provenance": [],
      "authorship_tag": "ABX9TyNikgqVVJYoOWPFdtEeOea3",
      "include_colab_link": true
    },
    "kernelspec": {
      "name": "python3",
      "display_name": "Python 3"
    },
    "language_info": {
      "name": "python"
    }
  },
  "cells": [
    {
      "cell_type": "markdown",
      "metadata": {
        "id": "view-in-github",
        "colab_type": "text"
      },
      "source": [
        "<a href=\"https://colab.research.google.com/github/Drey-Tee/SQL/blob/main/SQL_Study_Plan_I.ipynb\" target=\"_parent\"><img src=\"https://colab.research.google.com/assets/colab-badge.svg\" alt=\"Open In Colab\"/></a>"
      ]
    },
    {
      "cell_type": "markdown",
      "source": [
        "**Leetcode 595**: Big Countries\n",
        "\n",
        "**Description** : Table: World\n",
        "\n",
        "+-------------+------------------+\n",
        "\n",
        "| Column Name | Type    |\n",
        "\n",
        "+-------------+-------------------+\n",
        "\n",
        "| name        | varchar           |\n",
        "\n",
        "| continent   | varchar           |\n",
        "\n",
        "| area        | int               |\n",
        "\n",
        "| population  | int               |\n",
        "\n",
        "| gdp         | int               |\n",
        "\n",
        "+-------------+-------------------+\n",
        "\n",
        "name is the primary key column for this table.\n",
        "Each row of this table gives information about the name of a country, the continent to which it belongs, its area, the population, and its GDP value.\n",
        "A country is big if:\n",
        "\n",
        "it has an area of at least three million (i.e., 3000000 km2), or\n",
        "\n",
        "it has a population of at least twenty-five million (i.e., 25000000).\n",
        "\n",
        "Write an SQL query to report the name, population, and area of the big countries.\n",
        "\n",
        "Return the result table in any order.\n",
        "The query result format is in the following example.\n",
        "\n",
        "**URL** : **https://leetcode.com/problems/big-countries/**"
      ],
      "metadata": {
        "id": "GTutyLtfu7yW"
      }
    },
    {
      "cell_type": "code",
      "execution_count": null,
      "metadata": {
        "id": "krlRLoGDuwdV"
      },
      "outputs": [],
      "source": [
        "# Write your MySQL query statement below\n",
        "SELECT name, area, population\n",
        "FROM World WHERE\n",
        "area >= 3000000 OR population >= 25000000\n"
      ]
    }
  ]
}