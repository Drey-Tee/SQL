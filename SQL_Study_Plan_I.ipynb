{
  "nbformat": 4,
  "nbformat_minor": 0,
  "metadata": {
    "colab": {
      "name": "SQL_Study_Plan_I.ipynb",
      "provenance": [],
      "collapsed_sections": [],
      "authorship_tag": "ABX9TyOr273EtbMBfKvRa6vtADMl",
      "include_colab_link": true
    },
    "kernelspec": {
      "name": "python3",
      "display_name": "Python 3"
    },
    "language_info": {
      "name": "python"
    }
  },
  "cells": [
    {
      "cell_type": "markdown",
      "metadata": {
        "id": "view-in-github",
        "colab_type": "text"
      },
      "source": [
        "<a href=\"https://colab.research.google.com/github/Drey-Tee/SQL/blob/main/SQL_Study_Plan_I.ipynb\" target=\"_parent\"><img src=\"https://colab.research.google.com/assets/colab-badge.svg\" alt=\"Open In Colab\"/></a>"
      ]
    },
    {
      "cell_type": "markdown",
      "source": [
        "**Leetcode 595**: Big Countries\n",
        "\n",
        "**Description** : Table: World\n",
        "\n",
        "+-------------+------------------+\n",
        "\n",
        "| Column Name | Type    |\n",
        "\n",
        "+-------------+-------------------+\n",
        "\n",
        "| name        | varchar           |\n",
        "\n",
        "| continent   | varchar           |\n",
        "\n",
        "| area        | int               |\n",
        "\n",
        "| population  | int               |\n",
        "\n",
        "| gdp         | int               |\n",
        "\n",
        "+-------------+-------------------+\n",
        "\n",
        "name is the primary key column for this table.\n",
        "Each row of this table gives information about the name of a country, the continent to which it belongs, its area, the population, and its GDP value.\n",
        "A country is big if:\n",
        "\n",
        "it has an area of at least three million (i.e., 3000000 km2), or\n",
        "\n",
        "it has a population of at least twenty-five million (i.e., 25000000).\n",
        "\n",
        "Write an SQL query to report the name, population, and area of the big countries.\n",
        "\n",
        "Return the result table in any order.\n",
        "\n",
        "**URL** : **https://leetcode.com/problems/big-countries/**"
      ],
      "metadata": {
        "id": "GTutyLtfu7yW"
      }
    },
    {
      "cell_type": "code",
      "execution_count": null,
      "metadata": {
        "id": "krlRLoGDuwdV"
      },
      "outputs": [],
      "source": [
        "# Write your MySQL query statement below\n",
        "SELECT name, area, population\n",
        "FROM World WHERE\n",
        "area >= 3000000 OR population >= 25000000\n"
      ]
    },
    {
      "cell_type": "code",
      "source": [
        ""
      ],
      "metadata": {
        "id": "gnniq860zsR2"
      },
      "execution_count": null,
      "outputs": []
    },
    {
      "cell_type": "markdown",
      "source": [
        "**Leetcode 1757**: Recyclables and Low Fat Products\n",
        "\n",
        "**Description** : Table: Products\n",
        "\n",
        "+-------------+---------+\n",
        "\n",
        "| Column Name | Type    |\n",
        "\n",
        "+-------------+---------+\n",
        "\n",
        "| product_id  | int     |\n",
        "\n",
        "| low_fats    | enum    |\n",
        "\n",
        "| recyclable  | enum    |\n",
        "\n",
        "+-------------+---------+\n",
        "\n",
        "product_id is the primary key for this table.\n",
        "low_fats is an ENUM of type ('Y', 'N') where 'Y' means this product is low fat and 'N' means it is not.\n",
        "recyclable is an ENUM of types ('Y', 'N') where 'Y' means this product is recyclable and 'N' means it is not.\n",
        " \n",
        "\n",
        "Write an SQL query to find the ids of products that are both low fat and recyclable.\n",
        "\n",
        "Return the result table in any order.\n",
        "\n",
        "**URL** : **https://leetcode.com/problems/recyclable-and-low-fat-products/**"
      ],
      "metadata": {
        "id": "y7D3a38HztvS"
      }
    },
    {
      "cell_type": "code",
      "source": [
        "# Write your MySQL query statement below\n",
        "SELECT product_id\n",
        "FROM Products \n",
        "WHERE\n",
        "low_fats = 'Y' AND recyclable = 'Y'"
      ],
      "metadata": {
        "id": "xQKwVFEtzsPB"
      },
      "execution_count": null,
      "outputs": []
    },
    {
      "cell_type": "code",
      "source": [
        ""
      ],
      "metadata": {
        "id": "pQx--q8PzsDq"
      },
      "execution_count": null,
      "outputs": []
    },
    {
      "cell_type": "markdown",
      "source": [
        "**Leetcode 584**: Find Customer Referee\n",
        "\n",
        "**Description** : Table: Customer\n",
        "\n",
        "+-------------+---------+\n",
        "\n",
        "| Column Name | Type    |\n",
        "\n",
        "+-------------+---------+\n",
        "\n",
        "| id          | int     |\n",
        "\n",
        "| name        | varchar |\n",
        "\n",
        "| referee_id  | int     |\n",
        "\n",
        "+-------------+---------+\n",
        "\n",
        "id is the primary key column for this table.\n",
        "Each row of this table indicates the id of a customer, their name, and the id of the customer who referred them.\n",
        " \n",
        "\n",
        "Write an SQL query to report the names of the customer that are not referred by the customer with id = 2.\n",
        "\n",
        "Return the result table in any order.\n",
        "\n",
        "\n",
        "**URL** : **https://leetcode.com/problems/find-customer-referee/**"
      ],
      "metadata": {
        "id": "66JfiZjQGwGC"
      }
    },
    {
      "cell_type": "code",
      "source": [
        "# Write your MySQL query statement below\n",
        "SELECT name\n",
        "FROM Customer\n",
        "WHERE referee_id !=2 OR referee_id is NULL;"
      ],
      "metadata": {
        "id": "zSfDXIj_zsAT"
      },
      "execution_count": null,
      "outputs": []
    },
    {
      "cell_type": "code",
      "source": [
        ""
      ],
      "metadata": {
        "id": "jYiI1g-Gzr85"
      },
      "execution_count": null,
      "outputs": []
    },
    {
      "cell_type": "markdown",
      "source": [
        "**Leetcode 183**: Customers Who Never Order\n",
        "\n",
        "**Description** : Table: Customers\n",
        "\n",
        "+-------------+---------+\n",
        "\n",
        "| Column Name | Type    |\n",
        "\n",
        "+-------------+---------+\n",
        "\n",
        "| id          | int     |\n",
        "\n",
        "| name        | varchar |\n",
        "\n",
        "+-------------+---------+\n",
        "\n",
        "id is the primary key column for this table.\n",
        "Each row of this table indicates the ID and name of a customer.\n",
        " \n",
        "\n",
        "Table: Orders\n",
        "\n",
        "+-------------+------+\n",
        "\n",
        "| Column Name | Type |\n",
        "\n",
        "+-------------+------+\n",
        "\n",
        "| id          | int  |\n",
        "\n",
        "| customerId  | int  |\n",
        "\n",
        "+-------------+------+\n",
        "\n",
        "id is the primary key column for this table.\n",
        "customerId is a foreign key of the ID from the Customers table.\n",
        "Each row of this table indicates the ID of an order and the ID of the customer who ordered it.\n",
        " \n",
        "\n",
        "Write an SQL query to report all customers who never order anything.\n",
        "\n",
        "Return the result table in any order.\n",
        "\n",
        "\n",
        "**URL** : **https://leetcode.com/problems/customers-who-never-order/**"
      ],
      "metadata": {
        "id": "F6ECXacMIGnk"
      }
    },
    {
      "cell_type": "code",
      "source": [
        "# Write your MySQL query statement below\n",
        "SELECT name AS Customers \n",
        "FROM Customers \n",
        "WHERE id NOT IN (SELECT customerId FROM Orders)"
      ],
      "metadata": {
        "id": "gw1I_4o4zr58"
      },
      "execution_count": null,
      "outputs": []
    },
    {
      "cell_type": "code",
      "source": [
        ""
      ],
      "metadata": {
        "id": "13xXpKA9S05-"
      },
      "execution_count": null,
      "outputs": []
    },
    {
      "cell_type": "markdown",
      "source": [
        "**Leetcode 1873**: Calculate Special Bonus\n",
        "\n",
        "**Description** : Table: Employees\n",
        "\n",
        "+-------------+---------+\n",
        "\n",
        "\n",
        "| Column Name | Type    |\n",
        "\n",
        "+-------------+---------+\n",
        "\n",
        "| employee_id | int     |\n",
        "\n",
        "\n",
        "| name        | varchar |\n",
        "\n",
        "| salary      | int     |\n",
        "\n",
        "+-------------+---------+\n",
        "\n",
        "employee_id is the primary key for this table.\n",
        "Each row of this table indicates the employee ID, employee name, and salary.\n",
        " \n",
        "\n",
        "Write an SQL query to calculate the bonus of each employee. The bonus of an employee is 100% of their salary if the ID of the employee is an odd number and the employee name does not start with the character 'M'. The bonus of an employee is 0 otherwise.\n",
        "\n",
        "Return the result table ordered by employee_id.\n",
        "\n",
        "**URL** : **https://leetcode.com/problems/calculate-special-bonus/**"
      ],
      "metadata": {
        "id": "WISRcYxIS5CU"
      }
    },
    {
      "cell_type": "code",
      "source": [
        "# Write your MySQL query statement below\n",
        "SELECT employee_id, if(employee_id%2=1 AND name NOT LIKE 'm%', salary,0) AS bonus\n",
        "FROM Employees ORDER BY employee_id;"
      ],
      "metadata": {
        "id": "XdWjsSyfS1Ee"
      },
      "execution_count": null,
      "outputs": []
    },
    {
      "cell_type": "code",
      "source": [
        ""
      ],
      "metadata": {
        "id": "CRuxqpF4S1IE"
      },
      "execution_count": null,
      "outputs": []
    },
    {
      "cell_type": "markdown",
      "source": [
        "**Leetcode 1873**: Swap Salary\n",
        "\n",
        "**Description** : Table: Salary\n",
        "\n",
        "+-------------+----------+\n",
        "\n",
        "| Column Name | Type     |\n",
        "\n",
        "+-------------+----------+\n",
        "\n",
        "| id          | int      |\n",
        "\n",
        "| name        | varchar  |\n",
        "\n",
        "| sex         | ENUM     |\n",
        "\n",
        "| salary      | int      |\n",
        "\n",
        "+-------------+----------+\n",
        "\n",
        "id is the primary key for this table.\n",
        "The sex column is ENUM value of type ('m', 'f').\n",
        "The table contains information about an employee.\n",
        " \n",
        "\n",
        "Write an SQL query to swap all 'f' and 'm' values (i.e., change all 'f' values to 'm' and vice versa) with a single update statement and no intermediate temporary tables.\n",
        "\n",
        "Note that you must write a single update statement, do not write any select statement for this problem.\n",
        "\n",
        "**URL** : **https://leetcode.com/problems/swap-salary/**"
      ],
      "metadata": {
        "id": "DRGfeHenUW2-"
      }
    },
    {
      "cell_type": "code",
      "source": [
        "UPDATE Salary SET sex = CASE WHEN sex = 'f' THEN 'm' ELSE 'f' END"
      ],
      "metadata": {
        "id": "vVF4WtKVS1Lb"
      },
      "execution_count": null,
      "outputs": []
    },
    {
      "cell_type": "code",
      "source": [
        ""
      ],
      "metadata": {
        "id": "A7pLfP84VwgI"
      },
      "execution_count": null,
      "outputs": []
    },
    {
      "cell_type": "markdown",
      "source": [
        "**Leetcode 196**: Delete Duplicate Emails\n",
        "\n",
        "**Description** : Table: Person\n",
        "\n",
        "+-------------+---------+\n",
        "\n",
        "| Column Name | Type    |\n",
        "\n",
        "+-------------+---------+\n",
        "\n",
        "| id          | int     |\n",
        "\n",
        "| email       | varchar |\n",
        "\n",
        "+-------------+---------+\n",
        "\n",
        "id is the primary key column for this table.\n",
        "\n",
        "Each row of this table contains an email. The emails will not contain uppercase letters.\n",
        " \n",
        "\n",
        "Write an SQL query to delete all the duplicate emails, keeping only one unique email with the smallest id. Note that you are supposed to write a DELETE statement and not a SELECT one.\n",
        "\n",
        "After running your script, the answer shown is the Person table. The driver will first compile and run your piece of code and then show the Person table. The final order of the Person table does not matter.\n",
        "\n",
        "**URL** : **https://leetcode.com/problems/delete-duplicate-emails/**"
      ],
      "metadata": {
        "id": "GLlkTe7CVu9s"
      }
    },
    {
      "cell_type": "code",
      "source": [
        "# Please write a DELETE statement and DO NOT write a SELECT statement.\n",
        "# Write your MySQL query statement below\n",
        "DELETE tb1\n",
        "FROM Person as tb1, Person as tb2\n",
        "WHERE tb1.Email = tb2.Email AND tb1.Id > tb2.Id;"
      ],
      "metadata": {
        "id": "irsLfO8iS1Oz"
      },
      "execution_count": null,
      "outputs": []
    },
    {
      "cell_type": "code",
      "source": [
        ""
      ],
      "metadata": {
        "id": "JxiN45QaS1SP"
      },
      "execution_count": null,
      "outputs": []
    },
    {
      "cell_type": "markdown",
      "source": [
        "**Leetcode 1667**: Fix Names in a Table\n",
        "\n",
        "**Description** : Table: Users\n",
        "\n",
        "+----------------+---------+\n",
        "\n",
        "| Column Name    | Type    |\n",
        "\n",
        "+----------------+---------+\n",
        "\n",
        "| user_id        | int     |\n",
        "\n",
        "| name           | varchar |\n",
        "\n",
        "+----------------+---------+\n",
        "\n",
        "user_id is the primary key for this table.\n",
        "This table contains the ID and the name of the user. The name consists of only lowercase and uppercase characters.\n",
        " \n",
        "\n",
        "Write an SQL query to fix the names so that only the first character is uppercase and the rest are lowercase.\n",
        "\n",
        "Return the result table ordered by user_id.\n",
        "\n",
        "**URL** : **https://leetcode.com/problems/fix-names-in-a-table/**"
      ],
      "metadata": {
        "id": "elaE-kuWfD7y"
      }
    },
    {
      "cell_type": "code",
      "source": [
        "# Write your MySQL query statement below\n",
        "SELECT user_id,\n",
        "CONCAT(UCASE(LEFT(name,1)),LCASE(SUBSTRING(name,2))) as name\n",
        "FROM Users ORDER BY user_id;"
      ],
      "metadata": {
        "id": "ahs_XGq2S1VM"
      },
      "execution_count": null,
      "outputs": []
    },
    {
      "cell_type": "code",
      "source": [
        ""
      ],
      "metadata": {
        "id": "6aGkQz_zS1Yc"
      },
      "execution_count": null,
      "outputs": []
    },
    {
      "cell_type": "markdown",
      "source": [
        "**Leetcode 1484**: Group Sold Products By Date\n",
        "\n",
        "**Description** : Table Activities:\n",
        "\n",
        "+-------------+---------+\n",
        "\n",
        "| Column Name | Type    |\n",
        "\n",
        "+-------------+---------+\n",
        "\n",
        "| sell_date   | date    |\n",
        "\n",
        "| product     | varchar |\n",
        "\n",
        "+-------------+---------+\n",
        "\n",
        "There is no primary key for this table, it may contain duplicates.\n",
        "Each row of this table contains the product name and the date it was sold in a market.\n",
        " \n",
        "\n",
        "Write an SQL query to find for each date the number of different products sold and their names.\n",
        "\n",
        "The sold products names for each date should be sorted lexicographically.\n",
        "\n",
        "Return the result table ordered by sell_date.\n",
        "\n",
        "**URL** : **https://leetcode.com/problems/group-sold-products-by-the-date/**"
      ],
      "metadata": {
        "id": "U-lY2Zk-oiGo"
      }
    },
    {
      "cell_type": "code",
      "source": [
        "# Write your MySQL query statement below\n",
        "SELECT sell_date,\n",
        "\t\tCOUNT(DISTINCT(product)) AS num_sold, \n",
        "\t\tGROUP_CONCAT(DISTINCT product ORDER BY product ASC) AS products\n",
        "FROM Activities\n",
        "GROUP BY sell_date\n",
        "ORDER BY sell_date ASC\n"
      ],
      "metadata": {
        "id": "mQjEag5rS1b-"
      },
      "execution_count": null,
      "outputs": []
    },
    {
      "cell_type": "code",
      "source": [
        ""
      ],
      "metadata": {
        "id": "hH91lGqDS1fP"
      },
      "execution_count": null,
      "outputs": []
    },
    {
      "cell_type": "markdown",
      "source": [
        "**Leetcode 1527**: Patients With a Condition\n",
        "\n",
        "**Description** : Table: Patients\n",
        "\n",
        "+--------------+---------+\n",
        "\n",
        "| Column Name  | Type    |\n",
        "\n",
        "+--------------+---------+\n",
        "\n",
        "| patient_id   | int     |\n",
        "\n",
        "| patient_name | varchar |\n",
        "\n",
        "| conditions   | varchar |\n",
        "\n",
        "+--------------+---------+\n",
        "\n",
        "patient_id is the primary key for this table.\n",
        "'conditions' contains 0 or more code separated by spaces. \n",
        "This table contains information of the patients in the hospital.\n",
        " \n",
        "\n",
        "Write an SQL query to report the patient_id, patient_name all conditions of patients who have Type I Diabetes. Type I Diabetes always starts with DIAB1 prefix\n",
        "\n",
        "Return the result table in any order.\n",
        "\n",
        "**URL** : **https://leetcode.com/problems/patients-with-a-condition/**"
      ],
      "metadata": {
        "id": "39-nqu0gqlb3"
      }
    },
    {
      "cell_type": "code",
      "source": [
        "# Write your MySQL query statement below\n",
        "SELECT *\n",
        "FROM\n",
        "    Patients\n",
        "WHERE\n",
        "    conditions LIKE 'DIAB1%'\n",
        "    OR conditions LIKE '% DIAB1%'"
      ],
      "metadata": {
        "id": "__SYO_8rS1iU"
      },
      "execution_count": null,
      "outputs": []
    },
    {
      "cell_type": "code",
      "source": [
        ""
      ],
      "metadata": {
        "id": "MQlxKwrIS1mI"
      },
      "execution_count": null,
      "outputs": []
    },
    {
      "cell_type": "markdown",
      "source": [
        "**Leetcode 1965**: Employees With Missing Information\n",
        "\n",
        "**Description** : Table: Employees\n",
        "\n",
        "+-------------+---------+\n",
        "\n",
        "| Column Name | Type    |\n",
        "\n",
        "+-------------+---------+\n",
        "\n",
        "| employee_id | int     |\n",
        "\n",
        "| name        | varchar |\n",
        "\n",
        "+-------------+---------+\n",
        "\n",
        "employee_id is the primary key for this table.\n",
        "Each row of this table indicates the name of the employee whose ID is employee_id.\n",
        " \n",
        "\n",
        "Table: Salaries\n",
        "\n",
        "+-------------+---------+\n",
        "\n",
        "| Column Name | Type    |\n",
        "\n",
        "+-------------+---------+\n",
        "\n",
        "| employee_id | int     |\n",
        "\n",
        "| salary      | int     |\n",
        "\n",
        "+-------------+---------+\n",
        "\n",
        "employee_id is the primary key for this table.\n",
        "Each row of this table indicates the salary of the employee whose ID is employee_id.\n",
        " \n",
        "\n",
        "Write an SQL query to report the IDs of all the employees with missing information. The information of an employee is missing if:\n",
        "\n",
        "The employee's name is missing, or\n",
        "The employee's salary is missing.\n",
        "Return the result table ordered by employee_id in ascending order.\n",
        "\n",
        "**URL** : **https://leetcode.com/problems/employees-with-missing-information/**"
      ],
      "metadata": {
        "id": "P6_CJuLq3w9Q"
      }
    },
    {
      "cell_type": "code",
      "source": [
        "# Write your MySQL query statement below\n",
        "SELECT employee_id FROM Employees \n",
        "WHERE employee_id \n",
        "NOT IN (SELECT employee_id FROM Salaries )\n",
        "UNION\n",
        "SELECT employee_id FROM Salaries \n",
        "WHERE employee_id \n",
        "NOT IN (SELECT employee_id FROM Employees)\n",
        "ORDER BY employee_id ASC"
      ],
      "metadata": {
        "id": "KVjhLpC5S1pq"
      },
      "execution_count": null,
      "outputs": []
    },
    {
      "cell_type": "code",
      "source": [
        ""
      ],
      "metadata": {
        "id": "KLIErzlsS1uW"
      },
      "execution_count": null,
      "outputs": []
    },
    {
      "cell_type": "markdown",
      "source": [
        "**Leetcode 1795**: Rearrange Products Table\n",
        "\n",
        "**Description** : Table: Products\n",
        "\n",
        "+-------------+---------+\n",
        "\n",
        "| Column Name | Type    |\n",
        "\n",
        "+-------------+---------+\n",
        "\n",
        "| product_id  | int     |\n",
        "\n",
        "| store1      | int     |\n",
        "\n",
        "| store2      | int     |\n",
        "\n",
        "| store3      | int     |\n",
        "\n",
        "+-------------+---------+\n",
        "\n",
        "product_id is the primary key for this table.\n",
        "Each row in this table indicates the product's price in 3 different stores: store1, store2, and store3.\n",
        "If the product is not available in a store, the price will be null in that store's column.\n",
        " \n",
        "\n",
        "Write an SQL query to rearrange the Products table so that each row has (product_id, store, price). If a product is not available in a store, do not include a row with that product_id and store combination in the result table.\n",
        "\n",
        "Return the result table in any order.\n",
        "\n",
        "**URL** : **https://leetcode.com/problems/rearrange-products-table/**"
      ],
      "metadata": {
        "id": "QXGKRuXU40BN"
      }
    },
    {
      "cell_type": "code",
      "source": [
        "# Write your MySQL query statement below\n",
        "SELECT product_id, 'store1' AS store , store1 AS price FROM products WHERE store1 IS NOT NULL \n",
        "UNION\n",
        "SELECT product_id, 'store2' AS store , store2 AS price FROM products WHERE store2 IS NOT NULL \n",
        "UNION\n",
        "SELECT product_id, 'store3' AS store , store3 AS price FROM products WHERE store3 IS NOT NULL;\n"
      ],
      "metadata": {
        "id": "N36P2dcJ4zRJ"
      },
      "execution_count": null,
      "outputs": []
    },
    {
      "cell_type": "code",
      "source": [
        ""
      ],
      "metadata": {
        "id": "NXm2Pnj-zr2l"
      },
      "execution_count": null,
      "outputs": []
    },
    {
      "cell_type": "markdown",
      "source": [
        "**Leetcode 608**: Tree Node\n",
        "\n",
        "**Description** : Table: Tree\n",
        "\n",
        "+-------------+------+\n",
        "\n",
        "| Column Name | Type |\n",
        "\n",
        "+-------------+------+\n",
        "\n",
        "| id          | int  |\n",
        "\n",
        "| p_id        | int  |\n",
        "\n",
        "+-------------+------+\n",
        "\n",
        "id is the primary key column for this table.\n",
        "Each row of this table contains information about the id of a node and the id of its parent node in a tree.\n",
        "The given structure is always a valid tree.\n",
        " \n",
        "\n",
        "Each node in the tree can be one of three types:\n",
        "\n",
        "\"Leaf\": if the node is a leaf node.\n",
        "\"Root\": if the node is the root of the tree.\n",
        "\"Inner\": If the node is neither a leaf node nor a root node.\n",
        "Write an SQL query to report the type of each node in the tree.\n",
        "\n",
        "Return the result table ordered by id in ascending order.\n",
        "\n",
        "**URL** : **https://leetcode.com/problems/tree-node/**"
      ],
      "metadata": {
        "id": "NaIlC7K_9F2A"
      }
    },
    {
      "cell_type": "code",
      "source": [
        "# Write your MySQL query statement below\n",
        "SELECT id, \n",
        "IF(p_id IS NULL, \"Root\", IF(id IN (SELECT DISTINCT p_id FROM Tree), \"Inner\", \"Leaf\")) \n",
        "AS type FROM Tree\n"
      ],
      "metadata": {
        "id": "9338lYoPzrpZ"
      },
      "execution_count": null,
      "outputs": []
    },
    {
      "cell_type": "code",
      "source": [
        ""
      ],
      "metadata": {
        "id": "YbI13C5K91Zn"
      },
      "execution_count": null,
      "outputs": []
    },
    {
      "cell_type": "markdown",
      "source": [
        "**Leetcode 176**: Second Highest Salary\n",
        "\n",
        "**Description** : Table: Employee\n",
        "\n",
        "+-------------+------+\n",
        "\n",
        "| Column Name | Type |\n",
        "\n",
        "+-------------+------+\n",
        "\n",
        "| id          | int  |\n",
        "\n",
        "| salary      | int  |\n",
        "\n",
        "+-------------+------+\n",
        "\n",
        "id is the primary key column for this table.\n",
        "Each row of this table contains information about the salary of an employee.\n",
        "Write an SQL query to report the second highest salary from the Employee table. If there is no second highest salary, the query should report null.\n",
        "\n",
        "**URL** : **https://leetcode.com/problems/second-highest-salary/**"
      ],
      "metadata": {
        "id": "B3N9WRnGYb9B"
      }
    },
    {
      "cell_type": "code",
      "source": [
        "# Write your MySQL query statement below\n",
        "SELECT MAX(salary) AS SecondHighestSalary\n",
        "FROM Employee \n",
        "WHERE salary NOT IN (SELECT MAX(salary) \n",
        "                          FROM Employee); "
      ],
      "metadata": {
        "id": "2G98t0h291Wo"
      },
      "execution_count": null,
      "outputs": []
    },
    {
      "cell_type": "code",
      "source": [
        ""
      ],
      "metadata": {
        "id": "Y6v9aEIt91TZ"
      },
      "execution_count": null,
      "outputs": []
    },
    {
      "cell_type": "markdown",
      "source": [
        "**Leetcode 175**: Combine Two Tables\n",
        "\n",
        "**Description** : Table: Person\n",
        "\n",
        "+-------------+---------+\n",
        "\n",
        "| Column Name | Type    |\n",
        "\n",
        "+-------------+---------+\n",
        "\n",
        "| personId    | int     |\n",
        "\n",
        "| lastName    | varchar |\n",
        "\n",
        "| firstName   | varchar |\n",
        "\n",
        "+-------------+---------+\n",
        "\n",
        "personId is the primary key column for this table.\n",
        "This table contains information about the ID of some persons and their first and last names.\n",
        " \n",
        "\n",
        "Table: Address\n",
        "\n",
        "+-------------+---------+\n",
        "\n",
        "| Column Name | Type    |\n",
        "\n",
        "+-------------+---------+\n",
        "\n",
        "| addressId   | int     |\n",
        "\n",
        "| personId    | int     |\n",
        "\n",
        "| city        | varchar |\n",
        "\n",
        "| state       | varchar |\n",
        "\n",
        "+-------------+---------+\n",
        "\n",
        "addressId is the primary key column for this table.\n",
        "Each row of this table contains information about the city and state of one person with ID = PersonId.\n",
        " \n",
        "\n",
        "Write an SQL query to report the first name, last name, city, and state of each person in the Person table. If the address of a personId is not present in the Address table, report null instead.\n",
        "\n",
        "Return the result table in any order.\n",
        "\n",
        "**URL** : **https://leetcode.com/problems/combine-two-tables/**"
      ],
      "metadata": {
        "id": "voOqsfwCZEJx"
      }
    },
    {
      "cell_type": "code",
      "source": [
        "# Write your MySQL query statement below\n",
        "SELECT Person.firstName, Person.lastName, Address.state, Address.city\n",
        "FROM Person \n",
        "LEFT JOIN Address  \n",
        "ON Person.personId = Address.personId\n"
      ],
      "metadata": {
        "id": "UvCtA3Nu91P3"
      },
      "execution_count": null,
      "outputs": []
    },
    {
      "cell_type": "code",
      "source": [
        ""
      ],
      "metadata": {
        "id": "V1jlAxOX91Me"
      },
      "execution_count": null,
      "outputs": []
    },
    {
      "cell_type": "markdown",
      "source": [
        "**Leetcode 1581**: Custome Who Visited But Did Not Make Any Transactions\n",
        "\n",
        "**Description** : Table: Visits\n",
        "\n",
        "+-------------+---------+\n",
        "\n",
        "| Column Name | Type    |\n",
        "\n",
        "+-------------+---------+\n",
        "\n",
        "| visit_id    | int     |\n",
        "\n",
        "| customer_id | int     |\n",
        "\n",
        "+-------------+---------+\n",
        "\n",
        "visit_id is the primary key for this table.\n",
        "This table contains information about the customers who visited the mall.\n",
        " \n",
        "\n",
        "Table: Transactions\n",
        "\n",
        "+----------------+---------+\n",
        "\n",
        "| Column Name    | Type    |\n",
        "\n",
        "+----------------+---------+\n",
        "\n",
        "| transaction_id | int     |\n",
        "\n",
        "| visit_id       | int     |\n",
        "\n",
        "| amount         | int     |\n",
        "\n",
        "+----------------+---------+\n",
        "\n",
        "transaction_id is the primary key for this table.\n",
        "This table contains information about the transactions made during the visit_id.\n",
        " \n",
        "\n",
        "Write an SQL query to find the IDs of the users who visited without making any transactions and the number of times they made these types of visits.\n",
        "\n",
        "Return the result table sorted in any order.\n",
        "\n",
        "\n",
        "**URL** : **https://leetcode.com/problems/customer-who-visited-but-did-not-make-any-transactions/**"
      ],
      "metadata": {
        "id": "IW-G5d0MZ_I6"
      }
    },
    {
      "cell_type": "code",
      "source": [
        "# Write your MySQL query statement below\n",
        "SELECT customer_id, \n",
        "COUNT(customer_id) AS 'count_no_trans' \n",
        "FROM visits \n",
        "WHERE visit_id \n",
        "NOT IN(SELECT DISTINCT(visit_id) FROM Transactions ) \n",
        "GROUP BY customer_id;\n"
      ],
      "metadata": {
        "id": "sqps_PP991JH"
      },
      "execution_count": null,
      "outputs": []
    },
    {
      "cell_type": "code",
      "source": [
        ""
      ],
      "metadata": {
        "id": "0lGJU4vo91Fm"
      },
      "execution_count": null,
      "outputs": []
    },
    {
      "cell_type": "markdown",
      "source": [
        "**Leetcode 1148**: Article Views I\n",
        "\n",
        "**Description** : Table: Views\n",
        "\n",
        "+---------------+---------+\n",
        "\n",
        "| Column Name   | Type    |\n",
        "\n",
        "+---------------+---------+\n",
        "\n",
        "| article_id    | int     |\n",
        "\n",
        "| author_id     | int     |\n",
        "\n",
        "| viewer_id     | int     |\n",
        "\n",
        "| view_date     | date    |\n",
        "\n",
        "+---------------+---------+\n",
        "\n",
        "There is no primary key for this table, it may have duplicate rows.\n",
        "Each row of this table indicates that some viewer viewed an article (written by some author) on some date. \n",
        "Note that equal author_id and viewer_id indicate the same person.\n",
        " \n",
        "\n",
        "Write an SQL query to find all the authors that viewed at least one of their own articles.\n",
        "\n",
        "Return the result table sorted by id in ascending order.\n",
        "\n",
        "\n",
        "**URL** : **https://leetcode.com/problems/article-views-i/**"
      ],
      "metadata": {
        "id": "0Xu6H6Ukbymd"
      }
    },
    {
      "cell_type": "code",
      "source": [
        "# Write your MySQL query statement below\n",
        "SELECT DISTINCT author_id as id \n",
        "FROM views \n",
        "WHERE author_id = viewer_id \n",
        "ORDER BY author_id;"
      ],
      "metadata": {
        "id": "OOSh6OsW91CO"
      },
      "execution_count": null,
      "outputs": []
    },
    {
      "cell_type": "code",
      "source": [
        ""
      ],
      "metadata": {
        "id": "2b_5KixK90-9"
      },
      "execution_count": null,
      "outputs": []
    },
    {
      "cell_type": "markdown",
      "source": [
        "**Leetcode 197**: Rising Temperature\n",
        "\n",
        "**Description** : Table: Weather\n",
        "\n",
        "+---------------+---------+\n",
        "\n",
        "| Column Name   | Type    |\n",
        "\n",
        "+---------------+---------+\n",
        "\n",
        "| id            | int     |\n",
        "\n",
        "| recordDate    | date    |\n",
        "\n",
        "| temperature   | int     |\n",
        "\n",
        "+---------------+---------+\n",
        "id is the primary key for this table.\n",
        "This table contains information about the temperature on a certain day.\n",
        " \n",
        "\n",
        "Write an SQL query to find all dates' Id with higher temperatures compared to its previous dates (yesterday).\n",
        "\n",
        "Return the result table in any order.\n",
        "\n",
        "\n",
        "**URL** : **https://leetcode.com/problems/rising-temperature/**"
      ],
      "metadata": {
        "id": "ivrqKfCIeU0L"
      }
    },
    {
      "cell_type": "code",
      "source": [
        "# Write your MySQL query statement below\n",
        "SELECT w1.id FROM Weather w1, Weather w2\n",
        "WHERE DATEDIFF(w1.recordDate,w2.recordDate)=1\n",
        "AND w1.temperature>w2.temperature"
      ],
      "metadata": {
        "id": "EJrSzM3W907M"
      },
      "execution_count": null,
      "outputs": []
    },
    {
      "cell_type": "code",
      "source": [
        ""
      ],
      "metadata": {
        "id": "_VNrq3zv904C"
      },
      "execution_count": null,
      "outputs": []
    },
    {
      "cell_type": "markdown",
      "source": [
        "**Leetcode 607**: Sales Person\n",
        "\n",
        "**Description** : Table: SalesPerson\n",
        "\n",
        "+-----------------+---------+\n",
        "\n",
        "| Column Name     | Type    |\n",
        "\n",
        "+-----------------+---------+\n",
        "\n",
        "| sales_id        | int     |\n",
        "\n",
        "| name            | varchar |\n",
        "\n",
        "| salary          | int     |\n",
        "\n",
        "| commission_rate | int     |\n",
        "\n",
        "| hire_date       | date    |\n",
        "\n",
        "+-----------------+---------+\n",
        "\n",
        "sales_id is the primary key column for this table.\n",
        "Each row of this table indicates the name and the ID of a salesperson alongside their salary, commission rate, and hire date.\n",
        " \n",
        "\n",
        "Table: Company\n",
        "\n",
        "+-------------+---------+\n",
        "\n",
        "| Column Name | Type    |\n",
        "\n",
        "+-------------+---------+\n",
        "\n",
        "| com_id      | int     |\n",
        "\n",
        "| name        | varchar |\n",
        "\n",
        "| city        | varchar |\n",
        "\n",
        "+-------------+---------+\n",
        "\n",
        "com_id is the primary key column for this table.\n",
        "Each row of this table indicates the name and the ID of a company and the city in which the company is located.\n",
        " \n",
        "\n",
        "Table: Orders\n",
        "\n",
        "+-------------+------+\n",
        "\n",
        "| Column Name | Type |\n",
        "\n",
        "+-------------+------+\n",
        "\n",
        "| order_id    | int  |\n",
        "\n",
        "| order_date  | date |\n",
        "\n",
        "| com_id      | int  |\n",
        "\n",
        "| sales_id    | int  |\n",
        "\n",
        "| amount      | int  |\n",
        "\n",
        "+-------------+------+\n",
        "\n",
        "order_id is the primary key column for this table.\n",
        "com_id is a foreign key to com_id from the Company table.\n",
        "sales_id is a foreign key to sales_id from the SalesPerson table.\n",
        "Each row of this table contains information about one order. This includes the ID of the company, the ID of the salesperson, the date of the order, and the amount paid.\n",
        " \n",
        "\n",
        "Write an SQL query to report the names of all the salespersons who did not have any orders related to the company with the name \"RED\".\n",
        "\n",
        "Return the result table in any order.\n",
        "\n",
        "**URL** : **https://leetcode.com/problems/sales-person/**"
      ],
      "metadata": {
        "id": "PCHKYIGBeWiA"
      }
    },
    {
      "cell_type": "code",
      "source": [
        "# Write your MySQL query statement below\n",
        "SELECT DISTINCT name AS name FROM salesperson\n",
        "WHERE sales_id NOT IN (\n",
        "    SELECT DISTINCT(O.sales_id) FROM orders AS O \n",
        "    INNER JOIN company AS C ON O.com_id = C.com_id\n",
        "    WHERE C.name = 'RED'\n",
        ")"
      ],
      "metadata": {
        "id": "OCENPIye90xI"
      },
      "execution_count": null,
      "outputs": []
    },
    {
      "cell_type": "code",
      "source": [
        ""
      ],
      "metadata": {
        "id": "jmgydtRR90tn"
      },
      "execution_count": null,
      "outputs": []
    },
    {
      "cell_type": "markdown",
      "source": [
        "**Leetcode 1141**: User Activity For The Pasr 30 Days I\n",
        "\n",
        "**Description** : Table: Activity\n",
        "\n",
        "+---------------+---------+\n",
        "\n",
        "| Column Name   | Type    |\n",
        "\n",
        "+---------------+---------+\n",
        "\n",
        "| user_id       | int     |\n",
        "\n",
        "| session_id    | int     |\n",
        "\n",
        "| activity_date | date    |\n",
        "\n",
        "| activity_type | enum    |\n",
        "\n",
        "+---------------+---------+\n",
        "\n",
        "There is no primary key for this table, it may have duplicate rows.\n",
        "The activity_type column is an ENUM of type ('open_session', 'end_session', 'scroll_down', 'send_message').\n",
        "The table shows the user activities for a social media website. \n",
        "Note that each session belongs to exactly one user.\n",
        " \n",
        "\n",
        "Write an SQL query to find the daily active user count for a period of 30 days ending 2019-07-27 inclusively. A user was active on someday if they made at least one activity on that day.\n",
        "\n",
        "Return the result table in any order.\n",
        "\n",
        "\n",
        "**URL** : https://leetcode.com/problems/user-activity-for-the-past-30-days-i/**"
      ],
      "metadata": {
        "id": "ExuJ3stueX_N"
      }
    },
    {
      "cell_type": "code",
      "source": [
        "# Write your MySQL query statement below\n",
        "SELECT activity_date AS day, COUNT(distinct user_id) AS active_users\n",
        "FROM Activity\n",
        "WHERE activity_date BETWEEN '20190628' AND '20190727'\n",
        "GROUP BY activity_date"
      ],
      "metadata": {
        "id": "y5rBk0kG90m1"
      },
      "execution_count": null,
      "outputs": []
    },
    {
      "cell_type": "code",
      "source": [
        ""
      ],
      "metadata": {
        "id": "12XlryHG90jg"
      },
      "execution_count": null,
      "outputs": []
    },
    {
      "cell_type": "markdown",
      "source": [
        "**Leetcode 1693**: Daily Leads And Partners\n",
        "\n",
        "**Description** : Table: DailySales\n",
        "\n",
        "+-------------+---------+\n",
        "\n",
        "| Column Name | Type    |\n",
        "\n",
        "+-------------+---------+\n",
        "\n",
        "| date_id     | date    |\n",
        "\n",
        "| make_name   | varchar |\n",
        "\n",
        "| lead_id     | int     |\n",
        "\n",
        "| partner_id  | int     |\n",
        "\n",
        "+-------------+---------+\n",
        "\n",
        "This table does not have a primary key.\n",
        "This table contains the date and the name of the product sold and the IDs of the lead and partner it was sold to.\n",
        "The name consists of only lowercase English letters.\n",
        " \n",
        "\n",
        "Write an SQL query that will, for each date_id and make_name, return the number of distinct lead_id's and distinct partner_id's.\n",
        "\n",
        "Return the result table in any order.\n",
        "**URL** : *https://leetcode.com/problems/daily-leads-and-partners/**"
      ],
      "metadata": {
        "id": "LlWf76YHeZoF"
      }
    },
    {
      "cell_type": "code",
      "source": [
        "# Write your MySQL query statement below\n",
        "SELECT date_id,make_name, COUNT(DISTINCT lead_id) AS unique_leads, \n",
        "COUNT(DISTINCT partner_id) AS unique_partners\n",
        "FROM DailySales\n",
        "GROUP BY date_id,make_name;"
      ],
      "metadata": {
        "id": "kI9unGQi90gW"
      },
      "execution_count": null,
      "outputs": []
    },
    {
      "cell_type": "code",
      "source": [
        ""
      ],
      "metadata": {
        "id": "Kju4GpG490c-"
      },
      "execution_count": null,
      "outputs": []
    },
    {
      "cell_type": "markdown",
      "source": [
        "**Leetcode 1729*: Find Followers Count\n",
        "\n",
        "**Description** :Table: Followers\n",
        "\n",
        "+-------------+------+\n",
        "\n",
        "| Column Name | Type |\n",
        "\n",
        "+-------------+------+\n",
        "\n",
        "| user_id     | int  |\n",
        "\n",
        "| follower_id | int  |\n",
        "\n",
        "+-------------+------+\n",
        "\n",
        "(user_id, follower_id) is the primary key for this table.\n",
        "This table contains the IDs of a user and a follower in a social media app where the follower follows the user.\n",
        " \n",
        "\n",
        "Write an SQL query that will, for each user, return the number of followers.\n",
        "\n",
        "Return the result table ordered by user_id..\n",
        "\n",
        "\n",
        "**URL** : **https://leetcode.com/problems/find-followers-count/**"
      ],
      "metadata": {
        "id": "INMyD7lxebQQ"
      }
    },
    {
      "cell_type": "code",
      "source": [
        "# Write your MySQL query statement below\n",
        "SELECT user_id, COUNT(follower_id) AS followers_count\n",
        "FROM Followers\n",
        "GROUP BY user_id\n",
        "ORDER BY user_id ASC"
      ],
      "metadata": {
        "id": "AYqhhW4J90Zw"
      },
      "execution_count": null,
      "outputs": []
    },
    {
      "cell_type": "code",
      "source": [
        ""
      ],
      "metadata": {
        "id": "M9ySZtiW90WC"
      },
      "execution_count": null,
      "outputs": []
    },
    {
      "cell_type": "code",
      "source": [
        ""
      ],
      "metadata": {
        "id": "3iecXiaJ9y0X"
      },
      "execution_count": null,
      "outputs": []
    },
    {
      "cell_type": "code",
      "source": [
        ""
      ],
      "metadata": {
        "id": "4l__T6X19x3U"
      },
      "execution_count": null,
      "outputs": []
    },
    {
      "cell_type": "code",
      "source": [
        ""
      ],
      "metadata": {
        "id": "7mN46n8g9xzK"
      },
      "execution_count": null,
      "outputs": []
    },
    {
      "cell_type": "code",
      "source": [
        ""
      ],
      "metadata": {
        "id": "FI4khILm9xvQ"
      },
      "execution_count": null,
      "outputs": []
    },
    {
      "cell_type": "code",
      "source": [
        ""
      ],
      "metadata": {
        "id": "pbPudO139xkl"
      },
      "execution_count": null,
      "outputs": []
    },
    {
      "cell_type": "code",
      "source": [
        ""
      ],
      "metadata": {
        "id": "WmXkqjJu9xT_"
      },
      "execution_count": null,
      "outputs": []
    }
  ]
}