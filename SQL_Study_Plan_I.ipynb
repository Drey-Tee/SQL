{
  "nbformat": 4,
  "nbformat_minor": 0,
  "metadata": {
    "colab": {
      "name": "SQL_Study_Plan_I.ipynb",
      "provenance": [],
      "collapsed_sections": [],
      "authorship_tag": "ABX9TyMxCKckFd+r6ps0XMv12jq1",
      "include_colab_link": true
    },
    "kernelspec": {
      "name": "python3",
      "display_name": "Python 3"
    },
    "language_info": {
      "name": "python"
    }
  },
  "cells": [
    {
      "cell_type": "markdown",
      "metadata": {
        "id": "view-in-github",
        "colab_type": "text"
      },
      "source": [
        "<a href=\"https://colab.research.google.com/github/Drey-Tee/SQL/blob/main/SQL_Study_Plan_I.ipynb\" target=\"_parent\"><img src=\"https://colab.research.google.com/assets/colab-badge.svg\" alt=\"Open In Colab\"/></a>"
      ]
    },
    {
      "cell_type": "markdown",
      "source": [
        "**Leetcode 595**: Big Countries\n",
        "\n",
        "**Description** : Table: World\n",
        "\n",
        "+-------------+------------------+\n",
        "\n",
        "| Column Name | Type    |\n",
        "\n",
        "+-------------+-------------------+\n",
        "\n",
        "| name        | varchar           |\n",
        "\n",
        "| continent   | varchar           |\n",
        "\n",
        "| area        | int               |\n",
        "\n",
        "| population  | int               |\n",
        "\n",
        "| gdp         | int               |\n",
        "\n",
        "+-------------+-------------------+\n",
        "\n",
        "name is the primary key column for this table.\n",
        "Each row of this table gives information about the name of a country, the continent to which it belongs, its area, the population, and its GDP value.\n",
        "A country is big if:\n",
        "\n",
        "it has an area of at least three million (i.e., 3000000 km2), or\n",
        "\n",
        "it has a population of at least twenty-five million (i.e., 25000000).\n",
        "\n",
        "Write an SQL query to report the name, population, and area of the big countries.\n",
        "\n",
        "Return the result table in any order.\n",
        "\n",
        "**URL** : **https://leetcode.com/problems/big-countries/**"
      ],
      "metadata": {
        "id": "GTutyLtfu7yW"
      }
    },
    {
      "cell_type": "code",
      "execution_count": null,
      "metadata": {
        "id": "krlRLoGDuwdV"
      },
      "outputs": [],
      "source": [
        "# Write your MySQL query statement below\n",
        "SELECT name, area, population\n",
        "FROM World WHERE\n",
        "area >= 3000000 OR population >= 25000000\n"
      ]
    },
    {
      "cell_type": "code",
      "source": [
        ""
      ],
      "metadata": {
        "id": "gnniq860zsR2"
      },
      "execution_count": null,
      "outputs": []
    },
    {
      "cell_type": "markdown",
      "source": [
        "**Leetcode 1757**: Recyclables and Low Fat Products\n",
        "\n",
        "**Description** : Table: Products\n",
        "\n",
        "+-------------+---------+\n",
        "\n",
        "| Column Name | Type    |\n",
        "\n",
        "+-------------+---------+\n",
        "\n",
        "| product_id  | int     |\n",
        "\n",
        "| low_fats    | enum    |\n",
        "\n",
        "| recyclable  | enum    |\n",
        "\n",
        "+-------------+---------+\n",
        "\n",
        "product_id is the primary key for this table.\n",
        "low_fats is an ENUM of type ('Y', 'N') where 'Y' means this product is low fat and 'N' means it is not.\n",
        "recyclable is an ENUM of types ('Y', 'N') where 'Y' means this product is recyclable and 'N' means it is not.\n",
        " \n",
        "\n",
        "Write an SQL query to find the ids of products that are both low fat and recyclable.\n",
        "\n",
        "Return the result table in any order.\n",
        "\n",
        "**URL** : **https://leetcode.com/problems/recyclable-and-low-fat-products/**"
      ],
      "metadata": {
        "id": "y7D3a38HztvS"
      }
    },
    {
      "cell_type": "code",
      "source": [
        "# Write your MySQL query statement below\n",
        "SELECT product_id\n",
        "FROM Products \n",
        "WHERE\n",
        "low_fats = 'Y' AND recyclable = 'Y'"
      ],
      "metadata": {
        "id": "xQKwVFEtzsPB"
      },
      "execution_count": null,
      "outputs": []
    },
    {
      "cell_type": "code",
      "source": [
        ""
      ],
      "metadata": {
        "id": "pQx--q8PzsDq"
      },
      "execution_count": null,
      "outputs": []
    },
    {
      "cell_type": "markdown",
      "source": [
        "**Leetcode 584**: Find Customer Referee\n",
        "\n",
        "**Description** : Table: Customer\n",
        "\n",
        "+-------------+---------+\n",
        "\n",
        "| Column Name | Type    |\n",
        "\n",
        "+-------------+---------+\n",
        "\n",
        "| id          | int     |\n",
        "\n",
        "| name        | varchar |\n",
        "\n",
        "| referee_id  | int     |\n",
        "\n",
        "+-------------+---------+\n",
        "\n",
        "id is the primary key column for this table.\n",
        "Each row of this table indicates the id of a customer, their name, and the id of the customer who referred them.\n",
        " \n",
        "\n",
        "Write an SQL query to report the names of the customer that are not referred by the customer with id = 2.\n",
        "\n",
        "Return the result table in any order.\n",
        "\n",
        "\n",
        "**URL** : **https://leetcode.com/problems/find-customer-referee/**"
      ],
      "metadata": {
        "id": "66JfiZjQGwGC"
      }
    },
    {
      "cell_type": "code",
      "source": [
        "# Write your MySQL query statement below\n",
        "SELECT name\n",
        "FROM Customer\n",
        "WHERE referee_id !=2 OR referee_id is NULL;"
      ],
      "metadata": {
        "id": "zSfDXIj_zsAT"
      },
      "execution_count": null,
      "outputs": []
    },
    {
      "cell_type": "code",
      "source": [
        ""
      ],
      "metadata": {
        "id": "jYiI1g-Gzr85"
      },
      "execution_count": null,
      "outputs": []
    },
    {
      "cell_type": "code",
      "source": [
        ""
      ],
      "metadata": {
        "id": "gw1I_4o4zr58"
      },
      "execution_count": null,
      "outputs": []
    },
    {
      "cell_type": "code",
      "source": [
        ""
      ],
      "metadata": {
        "id": "NXm2Pnj-zr2l"
      },
      "execution_count": null,
      "outputs": []
    },
    {
      "cell_type": "code",
      "source": [
        ""
      ],
      "metadata": {
        "id": "9338lYoPzrpZ"
      },
      "execution_count": null,
      "outputs": []
    }
  ]
}