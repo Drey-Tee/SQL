{
  "nbformat": 4,
  "nbformat_minor": 0,
  "metadata": {
    "colab": {
      "name": "SQL_Study_Plan_I.ipynb",
      "provenance": [],
      "collapsed_sections": [],
      "authorship_tag": "ABX9TyOaPQ6AdhTtOvpA1GON2qlq",
      "include_colab_link": true
    },
    "kernelspec": {
      "name": "python3",
      "display_name": "Python 3"
    },
    "language_info": {
      "name": "python"
    }
  },
  "cells": [
    {
      "cell_type": "markdown",
      "metadata": {
        "id": "view-in-github",
        "colab_type": "text"
      },
      "source": [
        "<a href=\"https://colab.research.google.com/github/Drey-Tee/SQL/blob/main/SQL_Study_Plan_I.ipynb\" target=\"_parent\"><img src=\"https://colab.research.google.com/assets/colab-badge.svg\" alt=\"Open In Colab\"/></a>"
      ]
    },
    {
      "cell_type": "markdown",
      "source": [
        "**Leetcode 595**: Big Countries\n",
        "\n",
        "**Description** : Table: World\n",
        "\n",
        "+-------------+------------------+\n",
        "\n",
        "| Column Name | Type    |\n",
        "\n",
        "+-------------+-------------------+\n",
        "\n",
        "| name        | varchar           |\n",
        "\n",
        "| continent   | varchar           |\n",
        "\n",
        "| area        | int               |\n",
        "\n",
        "| population  | int               |\n",
        "\n",
        "| gdp         | int               |\n",
        "\n",
        "+-------------+-------------------+\n",
        "\n",
        "name is the primary key column for this table.\n",
        "Each row of this table gives information about the name of a country, the continent to which it belongs, its area, the population, and its GDP value.\n",
        "A country is big if:\n",
        "\n",
        "it has an area of at least three million (i.e., 3000000 km2), or\n",
        "\n",
        "it has a population of at least twenty-five million (i.e., 25000000).\n",
        "\n",
        "Write an SQL query to report the name, population, and area of the big countries.\n",
        "\n",
        "Return the result table in any order.\n",
        "\n",
        "**URL** : **https://leetcode.com/problems/big-countries/**"
      ],
      "metadata": {
        "id": "GTutyLtfu7yW"
      }
    },
    {
      "cell_type": "code",
      "execution_count": null,
      "metadata": {
        "id": "krlRLoGDuwdV"
      },
      "outputs": [],
      "source": [
        "# Write your MySQL query statement below\n",
        "SELECT name, area, population\n",
        "FROM World WHERE\n",
        "area >= 3000000 OR population >= 25000000\n"
      ]
    },
    {
      "cell_type": "code",
      "source": [
        ""
      ],
      "metadata": {
        "id": "gnniq860zsR2"
      },
      "execution_count": null,
      "outputs": []
    },
    {
      "cell_type": "markdown",
      "source": [
        "**Leetcode 1757**: Recyclables and Low Fat Products\n",
        "\n",
        "**Description** : Table: Products\n",
        "\n",
        "+-------------+---------+\n",
        "\n",
        "| Column Name | Type    |\n",
        "\n",
        "+-------------+---------+\n",
        "\n",
        "| product_id  | int     |\n",
        "\n",
        "| low_fats    | enum    |\n",
        "\n",
        "| recyclable  | enum    |\n",
        "\n",
        "+-------------+---------+\n",
        "\n",
        "product_id is the primary key for this table.\n",
        "low_fats is an ENUM of type ('Y', 'N') where 'Y' means this product is low fat and 'N' means it is not.\n",
        "recyclable is an ENUM of types ('Y', 'N') where 'Y' means this product is recyclable and 'N' means it is not.\n",
        " \n",
        "\n",
        "Write an SQL query to find the ids of products that are both low fat and recyclable.\n",
        "\n",
        "Return the result table in any order.\n",
        "\n",
        "**URL** : **https://leetcode.com/problems/recyclable-and-low-fat-products/**"
      ],
      "metadata": {
        "id": "y7D3a38HztvS"
      }
    },
    {
      "cell_type": "code",
      "source": [
        "# Write your MySQL query statement below\n",
        "SELECT product_id\n",
        "FROM Products \n",
        "WHERE\n",
        "low_fats = 'Y' AND recyclable = 'Y'"
      ],
      "metadata": {
        "id": "xQKwVFEtzsPB"
      },
      "execution_count": null,
      "outputs": []
    },
    {
      "cell_type": "code",
      "source": [
        ""
      ],
      "metadata": {
        "id": "pQx--q8PzsDq"
      },
      "execution_count": null,
      "outputs": []
    },
    {
      "cell_type": "markdown",
      "source": [
        "**Leetcode 584**: Find Customer Referee\n",
        "\n",
        "**Description** : Table: Customer\n",
        "\n",
        "+-------------+---------+\n",
        "\n",
        "| Column Name | Type    |\n",
        "\n",
        "+-------------+---------+\n",
        "\n",
        "| id          | int     |\n",
        "\n",
        "| name        | varchar |\n",
        "\n",
        "| referee_id  | int     |\n",
        "\n",
        "+-------------+---------+\n",
        "\n",
        "id is the primary key column for this table.\n",
        "Each row of this table indicates the id of a customer, their name, and the id of the customer who referred them.\n",
        " \n",
        "\n",
        "Write an SQL query to report the names of the customer that are not referred by the customer with id = 2.\n",
        "\n",
        "Return the result table in any order.\n",
        "\n",
        "\n",
        "**URL** : **https://leetcode.com/problems/find-customer-referee/**"
      ],
      "metadata": {
        "id": "66JfiZjQGwGC"
      }
    },
    {
      "cell_type": "code",
      "source": [
        "# Write your MySQL query statement below\n",
        "SELECT name\n",
        "FROM Customer\n",
        "WHERE referee_id !=2 OR referee_id is NULL;"
      ],
      "metadata": {
        "id": "zSfDXIj_zsAT"
      },
      "execution_count": null,
      "outputs": []
    },
    {
      "cell_type": "code",
      "source": [
        ""
      ],
      "metadata": {
        "id": "jYiI1g-Gzr85"
      },
      "execution_count": null,
      "outputs": []
    },
    {
      "cell_type": "markdown",
      "source": [
        "**Leetcode 183**: Customers Who Never Order\n",
        "\n",
        "**Description** : Table: Customers\n",
        "\n",
        "+-------------+---------+\n",
        "\n",
        "| Column Name | Type    |\n",
        "\n",
        "+-------------+---------+\n",
        "\n",
        "| id          | int     |\n",
        "\n",
        "| name        | varchar |\n",
        "\n",
        "+-------------+---------+\n",
        "\n",
        "id is the primary key column for this table.\n",
        "Each row of this table indicates the ID and name of a customer.\n",
        " \n",
        "\n",
        "Table: Orders\n",
        "\n",
        "+-------------+------+\n",
        "\n",
        "| Column Name | Type |\n",
        "\n",
        "+-------------+------+\n",
        "\n",
        "| id          | int  |\n",
        "\n",
        "| customerId  | int  |\n",
        "\n",
        "+-------------+------+\n",
        "\n",
        "id is the primary key column for this table.\n",
        "customerId is a foreign key of the ID from the Customers table.\n",
        "Each row of this table indicates the ID of an order and the ID of the customer who ordered it.\n",
        " \n",
        "\n",
        "Write an SQL query to report all customers who never order anything.\n",
        "\n",
        "Return the result table in any order.\n",
        "\n",
        "\n",
        "**URL** : **https://leetcode.com/problems/customers-who-never-order/**"
      ],
      "metadata": {
        "id": "F6ECXacMIGnk"
      }
    },
    {
      "cell_type": "code",
      "source": [
        "# Write your MySQL query statement below\n",
        "SELECT name AS Customers \n",
        "FROM Customers \n",
        "WHERE id NOT IN (SELECT customerId FROM Orders)"
      ],
      "metadata": {
        "id": "gw1I_4o4zr58"
      },
      "execution_count": null,
      "outputs": []
    },
    {
      "cell_type": "code",
      "source": [
        ""
      ],
      "metadata": {
        "id": "13xXpKA9S05-"
      },
      "execution_count": null,
      "outputs": []
    },
    {
      "cell_type": "markdown",
      "source": [
        "**Leetcode 1873**: Calculate Special Bonus\n",
        "\n",
        "**Description** : Table: Employees\n",
        "\n",
        "+-------------+---------+\n",
        "\n",
        "\n",
        "| Column Name | Type    |\n",
        "\n",
        "+-------------+---------+\n",
        "\n",
        "| employee_id | int     |\n",
        "\n",
        "\n",
        "| name        | varchar |\n",
        "\n",
        "| salary      | int     |\n",
        "\n",
        "+-------------+---------+\n",
        "\n",
        "employee_id is the primary key for this table.\n",
        "Each row of this table indicates the employee ID, employee name, and salary.\n",
        " \n",
        "\n",
        "Write an SQL query to calculate the bonus of each employee. The bonus of an employee is 100% of their salary if the ID of the employee is an odd number and the employee name does not start with the character 'M'. The bonus of an employee is 0 otherwise.\n",
        "\n",
        "Return the result table ordered by employee_id.\n",
        "\n",
        "**URL** : **https://leetcode.com/problems/calculate-special-bonus/**"
      ],
      "metadata": {
        "id": "WISRcYxIS5CU"
      }
    },
    {
      "cell_type": "code",
      "source": [
        "# Write your MySQL query statement below\n",
        "SELECT employee_id, if(employee_id%2=1 AND name NOT LIKE 'm%', salary,0) AS bonus\n",
        "FROM Employees ORDER BY employee_id;"
      ],
      "metadata": {
        "id": "XdWjsSyfS1Ee"
      },
      "execution_count": null,
      "outputs": []
    },
    {
      "cell_type": "code",
      "source": [
        ""
      ],
      "metadata": {
        "id": "CRuxqpF4S1IE"
      },
      "execution_count": null,
      "outputs": []
    },
    {
      "cell_type": "markdown",
      "source": [
        "**Leetcode 1873**: Swap Salary\n",
        "\n",
        "**Description** : Table: Salary\n",
        "\n",
        "+-------------+----------+\n",
        "\n",
        "| Column Name | Type     |\n",
        "\n",
        "+-------------+----------+\n",
        "\n",
        "| id          | int      |\n",
        "\n",
        "| name        | varchar  |\n",
        "\n",
        "| sex         | ENUM     |\n",
        "\n",
        "| salary      | int      |\n",
        "\n",
        "+-------------+----------+\n",
        "\n",
        "id is the primary key for this table.\n",
        "The sex column is ENUM value of type ('m', 'f').\n",
        "The table contains information about an employee.\n",
        " \n",
        "\n",
        "Write an SQL query to swap all 'f' and 'm' values (i.e., change all 'f' values to 'm' and vice versa) with a single update statement and no intermediate temporary tables.\n",
        "\n",
        "Note that you must write a single update statement, do not write any select statement for this problem.\n",
        "\n",
        "**URL** : **https://leetcode.com/problems/swap-salary/**"
      ],
      "metadata": {
        "id": "DRGfeHenUW2-"
      }
    },
    {
      "cell_type": "code",
      "source": [
        "UPDATE Salary SET sex = CASE WHEN sex = 'f' THEN 'm' ELSE 'f' END"
      ],
      "metadata": {
        "id": "vVF4WtKVS1Lb"
      },
      "execution_count": null,
      "outputs": []
    },
    {
      "cell_type": "code",
      "source": [
        ""
      ],
      "metadata": {
        "id": "A7pLfP84VwgI"
      },
      "execution_count": null,
      "outputs": []
    },
    {
      "cell_type": "markdown",
      "source": [
        "**Leetcode 196**: Delete Duplicate Emails\n",
        "\n",
        "**Description** : Table: Person\n",
        "\n",
        "+-------------+---------+\n",
        "\n",
        "| Column Name | Type    |\n",
        "\n",
        "+-------------+---------+\n",
        "\n",
        "| id          | int     |\n",
        "\n",
        "| email       | varchar |\n",
        "\n",
        "+-------------+---------+\n",
        "\n",
        "id is the primary key column for this table.\n",
        "\n",
        "Each row of this table contains an email. The emails will not contain uppercase letters.\n",
        " \n",
        "\n",
        "Write an SQL query to delete all the duplicate emails, keeping only one unique email with the smallest id. Note that you are supposed to write a DELETE statement and not a SELECT one.\n",
        "\n",
        "After running your script, the answer shown is the Person table. The driver will first compile and run your piece of code and then show the Person table. The final order of the Person table does not matter.\n",
        "\n",
        "**URL** : **https://leetcode.com/problems/delete-duplicate-emails/**"
      ],
      "metadata": {
        "id": "GLlkTe7CVu9s"
      }
    },
    {
      "cell_type": "code",
      "source": [
        "# Please write a DELETE statement and DO NOT write a SELECT statement.\n",
        "# Write your MySQL query statement below\n",
        "DELETE tb1\n",
        "FROM Person as tb1, Person as tb2\n",
        "WHERE tb1.Email = tb2.Email AND tb1.Id > tb2.Id;"
      ],
      "metadata": {
        "id": "irsLfO8iS1Oz"
      },
      "execution_count": null,
      "outputs": []
    },
    {
      "cell_type": "code",
      "source": [
        ""
      ],
      "metadata": {
        "id": "JxiN45QaS1SP"
      },
      "execution_count": null,
      "outputs": []
    },
    {
      "cell_type": "markdown",
      "source": [
        "**Leetcode 1667**: Fix Names in a Table\n",
        "\n",
        "**Description** : Table: Users\n",
        "\n",
        "+----------------+---------+\n",
        "\n",
        "| Column Name    | Type    |\n",
        "\n",
        "+----------------+---------+\n",
        "\n",
        "| user_id        | int     |\n",
        "\n",
        "| name           | varchar |\n",
        "\n",
        "+----------------+---------+\n",
        "\n",
        "user_id is the primary key for this table.\n",
        "This table contains the ID and the name of the user. The name consists of only lowercase and uppercase characters.\n",
        " \n",
        "\n",
        "Write an SQL query to fix the names so that only the first character is uppercase and the rest are lowercase.\n",
        "\n",
        "Return the result table ordered by user_id.\n",
        "\n",
        "**URL** : **https://leetcode.com/problems/fix-names-in-a-table/**"
      ],
      "metadata": {
        "id": "elaE-kuWfD7y"
      }
    },
    {
      "cell_type": "code",
      "source": [
        "# Write your MySQL query statement below\n",
        "SELECT user_id,\n",
        "CONCAT(UCASE(LEFT(name,1)),LCASE(SUBSTRING(name,2))) as name\n",
        "FROM Users ORDER BY user_id;"
      ],
      "metadata": {
        "id": "ahs_XGq2S1VM"
      },
      "execution_count": null,
      "outputs": []
    },
    {
      "cell_type": "code",
      "source": [
        ""
      ],
      "metadata": {
        "id": "6aGkQz_zS1Yc"
      },
      "execution_count": null,
      "outputs": []
    },
    {
      "cell_type": "markdown",
      "source": [
        "**Leetcode 1484**: Group Sold Products By Date\n",
        "\n",
        "**Description** : Table Activities:\n",
        "\n",
        "+-------------+---------+\n",
        "\n",
        "| Column Name | Type    |\n",
        "\n",
        "+-------------+---------+\n",
        "\n",
        "| sell_date   | date    |\n",
        "\n",
        "| product     | varchar |\n",
        "\n",
        "+-------------+---------+\n",
        "\n",
        "There is no primary key for this table, it may contain duplicates.\n",
        "Each row of this table contains the product name and the date it was sold in a market.\n",
        " \n",
        "\n",
        "Write an SQL query to find for each date the number of different products sold and their names.\n",
        "\n",
        "The sold products names for each date should be sorted lexicographically.\n",
        "\n",
        "Return the result table ordered by sell_date.\n",
        "\n",
        "**URL** : **https://leetcode.com/problems/group-sold-products-by-the-date/**"
      ],
      "metadata": {
        "id": "U-lY2Zk-oiGo"
      }
    },
    {
      "cell_type": "code",
      "source": [
        "# Write your MySQL query statement below\n",
        "SELECT sell_date,\n",
        "\t\tCOUNT(DISTINCT(product)) AS num_sold, \n",
        "\t\tGROUP_CONCAT(DISTINCT product ORDER BY product ASC) AS products\n",
        "FROM Activities\n",
        "GROUP BY sell_date\n",
        "ORDER BY sell_date ASC\n"
      ],
      "metadata": {
        "id": "mQjEag5rS1b-"
      },
      "execution_count": null,
      "outputs": []
    },
    {
      "cell_type": "code",
      "source": [
        ""
      ],
      "metadata": {
        "id": "hH91lGqDS1fP"
      },
      "execution_count": null,
      "outputs": []
    },
    {
      "cell_type": "markdown",
      "source": [
        "**Leetcode 1527**: Patients With a Condition\n",
        "\n",
        "**Description** : Table: Patients\n",
        "\n",
        "+--------------+---------+\n",
        "\n",
        "| Column Name  | Type    |\n",
        "\n",
        "+--------------+---------+\n",
        "\n",
        "| patient_id   | int     |\n",
        "\n",
        "| patient_name | varchar |\n",
        "\n",
        "| conditions   | varchar |\n",
        "\n",
        "+--------------+---------+\n",
        "\n",
        "patient_id is the primary key for this table.\n",
        "'conditions' contains 0 or more code separated by spaces. \n",
        "This table contains information of the patients in the hospital.\n",
        " \n",
        "\n",
        "Write an SQL query to report the patient_id, patient_name all conditions of patients who have Type I Diabetes. Type I Diabetes always starts with DIAB1 prefix\n",
        "\n",
        "Return the result table in any order.\n",
        "\n",
        "**URL** : **https://leetcode.com/problems/patients-with-a-condition/**"
      ],
      "metadata": {
        "id": "39-nqu0gqlb3"
      }
    },
    {
      "cell_type": "code",
      "source": [
        "# Write your MySQL query statement below\n",
        "SELECT *\n",
        "FROM\n",
        "    Patients\n",
        "WHERE\n",
        "    conditions LIKE 'DIAB1%'\n",
        "    OR conditions LIKE '% DIAB1%'"
      ],
      "metadata": {
        "id": "__SYO_8rS1iU"
      },
      "execution_count": null,
      "outputs": []
    },
    {
      "cell_type": "code",
      "source": [
        ""
      ],
      "metadata": {
        "id": "MQlxKwrIS1mI"
      },
      "execution_count": null,
      "outputs": []
    },
    {
      "cell_type": "code",
      "source": [
        ""
      ],
      "metadata": {
        "id": "KVjhLpC5S1pq"
      },
      "execution_count": null,
      "outputs": []
    },
    {
      "cell_type": "code",
      "source": [
        ""
      ],
      "metadata": {
        "id": "KLIErzlsS1uW"
      },
      "execution_count": null,
      "outputs": []
    },
    {
      "cell_type": "code",
      "source": [
        ""
      ],
      "metadata": {
        "id": "NXm2Pnj-zr2l"
      },
      "execution_count": null,
      "outputs": []
    },
    {
      "cell_type": "code",
      "source": [
        ""
      ],
      "metadata": {
        "id": "9338lYoPzrpZ"
      },
      "execution_count": null,
      "outputs": []
    }
  ]
}